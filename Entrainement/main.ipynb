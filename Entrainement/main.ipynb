{
 "cells": [
  {
   "cell_type": "code",
   "execution_count": 169,
   "metadata": {},
   "outputs": [],
   "source": [
    "import time,json,ccxt,csv\n",
    "\n",
    "import pandas as pd\n",
    "import numpy as np\n",
    "from sklearn.preprocessing import MinMaxScaler\n",
    "from tensorflow.keras.models import Sequential,load_model\n",
    "from tensorflow.keras.layers import Dense, LSTM, Dropout\n",
    "from os import getcwd,system\n",
    "import matplotlib.pyplot as plt\n",
    "\n",
    "\n",
    "from get_data import get_historical_from_db"
   ]
  },
  {
   "cell_type": "code",
   "execution_count": 170,
   "metadata": {},
   "outputs": [],
   "source": [
    "def lire(chemin):\n",
    "    with open (chemin,\"r\") as fichier:\n",
    "        return json.load(fichier)\n",
    "\n",
    "def enregistrer (chemin,contenu,modeLecture=\"w\"):\n",
    "    with open(chemin,modeLecture) as fichier :\n",
    "        json.dump(contenu,fichier,indent=4, ensure_ascii=False, sort_keys=False )\n",
    "\n",
    "def logs(message,chemin=str(getcwd())+\"/logs.txt\",affi=True):\n",
    "    with open(chemin,\"a\") as l :\n",
    "        l.write(time.ctime()+\" : \"+message+\"\\n\")"
   ]
  },
  {
   "cell_type": "code",
   "execution_count": 171,
   "metadata": {},
   "outputs": [],
   "source": [
    "paramètres=lire(\"/home/Astra_world/Astra_investissement/paramètre.json\")\n",
    "tf,chemin2=\"1h\",\"\"\n",
    "chemin=getcwd()\n",
    "\n",
    "with open(paramètres[\"chemin_liste_pair\"],\"r\") as p:\n",
    "    pair=p.readlines()[0]\n",
    "\n",
    "df = get_historical_from_db(\n",
    "        ccxt.binance(), \n",
    "        pair,\n",
    "        tf,\n",
    "        path=paramètres[\"chemin_binance\"]\n",
    "    )"
   ]
  },
  {
   "cell_type": "code",
   "execution_count": 172,
   "metadata": {},
   "outputs": [],
   "source": [
    "regressor =load_model(paramètres[\"chemin_ia_maticusdt_1h\"])"
   ]
  },
  {
   "cell_type": "code",
   "execution_count": 173,
   "metadata": {},
   "outputs": [
    {
     "name": "stdout",
     "output_type": "stream",
     "text": [
      "304/304 [==============================] - 4s 8ms/step\n"
     ]
    }
   ],
   "source": [
    "training_set = df.copy().loc[:\"2020\"]\n",
    "test_set = df.copy().loc[\"2022\":]\n",
    "learn_period = 7\n",
    "\n",
    "sc = MinMaxScaler(feature_range = (0, 1))\n",
    "training_set_scaled = sc.fit_transform(training_set[\"close\"].values.reshape(-1, 1))\n",
    "\n",
    "\n",
    "X_train = []\n",
    "y_train = []\n",
    "\n",
    "for i in range(learn_period, len(training_set)):\n",
    "    X_train.append(training_set_scaled[i-learn_period:i, 0])\n",
    "    y_train.append(training_set_scaled[i, 0])\n",
    "\n",
    "X_train, y_train = np.array(X_train), np.array(y_train)\n",
    "\n",
    "\n",
    "X_train = np.reshape(X_train, (X_train.shape[0], X_train.shape[1], 1))\n",
    "X_train[0][0:2]\n",
    "real_stock_price = test_set.iloc[:, 1:2].values\n",
    "dataset_total = pd.concat((training_set['close'], test_set['close']), axis = 0)\n",
    "inputs = dataset_total[len(dataset_total) - len(test_set) - learn_period:].values\n",
    "inputs = inputs.reshape(-1,1)\n",
    "inputs = sc.fit_transform(inputs)\n",
    "X_test = []\n",
    "for i in range(learn_period, len(test_set) + learn_period):\n",
    "    X_test.append(inputs[i-learn_period:i, 0])\n",
    "X_test = np.array(X_test)\n",
    "X_test = np.reshape(X_test, (X_test.shape[0], X_test.shape[1], 1))\n",
    "predicted_stock_price = regressor.predict(X_test)\n",
    "predicted_stock_price = sc.inverse_transform(predicted_stock_price)\n",
    "predi=predicted_stock_price\n",
    "def get_column(filename, column_index):\n",
    "    with open(filename, 'r') as f:\n",
    "        reader = csv.reader(f)\n",
    "        header = next(reader)\n",
    "        column = []\n",
    "        for row in reader:\n",
    "            column.append(float(row[column_index]))\n",
    "        return header[column_index], column\n",
    "\n",
    "filename = \"/home/Astra_world/Binance/1h/MATIC-USDT.csv\"\n",
    "column_index = 1\n",
    "header, reel = get_column(filename, column_index)\n",
    "reel=reel[-len(predi):]"
   ]
  },
  {
   "cell_type": "code",
   "execution_count": 174,
   "metadata": {},
   "outputs": [
    {
     "name": "stdout",
     "output_type": "stream",
     "text": [
      "9719\n"
     ]
    }
   ],
   "source": [
    "dollard,btc=100,0\n",
    "max,min=0,100\n",
    "history,Time=[],[]\n",
    "salaire=2000        #Le salaire est retiré tout les mois si possible\n",
    "pourcentage,compteur_heure=[],0\n",
    "ancien=100\n",
    "c2=0                #Compte le nombre de mouvement\n",
    "dico={}\n",
    "lc,historys=[],[]\n",
    "\n",
    "print(len(predi))\n",
    "moins_heure=int(input(\"Heures: \"))\n",
    "if not btc:\n",
    "    btc=(dollard/reel[len(predi)-moins_heure-1])\n",
    "    for i in range (len(predi)-moins_heure,len(predi)):\n",
    "        historys.append(btc*reel[i-1])\n",
    "else:\n",
    "    for i in range (len(predi)-moins_heure,len(predi)):\n",
    "        historys.append(btc*reel[i-1])\n",
    "dollard,btc=100,0"
   ]
  },
  {
   "cell_type": "code",
   "execution_count": 175,
   "metadata": {},
   "outputs": [
    {
     "name": "stdout",
     "output_type": "stream",
     "text": [
      "Mon Dec 12 01:07:57 2022 +\n",
      "Wed Dec 14 22:07:57 2022 -\n",
      "Wed Dec 14 23:07:57 2022 +\n",
      "Sat Dec 17 01:07:57 2022 -\n",
      "Sat Dec 17 02:07:57 2022 +\n",
      "Tue Dec 20 05:07:57 2022 -\n",
      "Tue Dec 20 06:07:57 2022 +\n",
      "Mon Jan  9 05:07:57 2023 -\n",
      "Mon Jan  9 06:07:57 2023 +\n",
      "Thu Jan 12 02:07:57 2023 -\n",
      "Thu Jan 12 03:07:57 2023 +\n",
      "Thu Jan 12 17:07:57 2023 -\n",
      "Thu Jan 12 18:07:57 2023 +\n",
      "Thu Jan 12 21:07:57 2023 -\n",
      "Thu Jan 12 22:07:57 2023 +\n",
      "Sat Jan 14 03:07:57 2023 -\n",
      "Sat Jan 14 06:07:57 2023 +\n",
      "Sat Jan 14 09:07:57 2023 -\n",
      "Sat Jan 14 13:07:57 2023 +\n",
      "Sat Jan 14 17:07:57 2023 -\n",
      "Sat Jan 14 18:07:57 2023 +\n",
      "Sun Jan 15 03:07:57 2023 -\n",
      "Sun Jan 15 04:07:57 2023 +\n",
      "Mon Jan 16 05:07:57 2023 -\n",
      "Mon Jan 16 06:07:57 2023 +\n",
      "Mon Jan 16 11:07:57 2023 -\n",
      "Mon Jan 16 12:07:57 2023 +\n",
      "Tue Jan 17 03:07:57 2023 -\n",
      "Tue Jan 17 04:07:57 2023 +\n",
      "Wed Jan 18 18:07:57 2023 -\n",
      "Wed Jan 18 19:07:57 2023 +\n",
      "Wed Jan 18 20:07:57 2023 -\n",
      "Wed Jan 18 21:07:57 2023 +\n",
      "Sat Jan 21 03:07:57 2023 -\n",
      "Sat Jan 21 04:07:57 2023 +\n",
      "Sat Jan 21 13:07:57 2023 -\n",
      "Sat Jan 21 14:07:57 2023 +\n",
      "Sun Jan 22 18:07:57 2023 -\n",
      "Sun Jan 22 19:07:57 2023 +\n",
      "Mon Jan 23 17:07:57 2023 -\n",
      "Mon Jan 23 18:07:57 2023 +\n",
      "Tue Jan 24 11:07:57 2023 -\n",
      "Tue Jan 24 12:07:57 2023 +\n",
      "Thu Jan 26 01:07:57 2023 -\n",
      "Thu Jan 26 02:07:57 2023 +\n",
      "Thu Jan 26 16:07:57 2023 -\n",
      "Thu Jan 26 19:07:57 2023 +\n",
      "Thu Jan 26 20:07:57 2023 -\n",
      "Thu Jan 26 21:07:57 2023 +\n",
      "Fri Jan 27 03:07:57 2023 -\n",
      "Fri Jan 27 05:07:57 2023 +\n",
      "Fri Jan 27 17:07:57 2023 -\n",
      "Fri Jan 27 20:07:57 2023 +\n",
      "Sat Jan 28 19:07:57 2023 -\n",
      "Sat Jan 28 21:07:57 2023 +\n",
      "Mon Jan 30 12:07:57 2023 -\n",
      "Mon Jan 30 13:07:57 2023 +\n",
      "Mon Jan 30 22:07:57 2023 -\n",
      "Mon Jan 30 23:07:57 2023 +\n",
      "Wed Feb  1 22:07:57 2023 -\n",
      "Thu Feb  2 00:07:57 2023 +\n",
      "Thu Feb  2 04:07:57 2023 -\n",
      "Thu Feb  2 05:07:57 2023 +\n",
      "Thu Feb  2 16:07:57 2023 -\n",
      "Thu Feb  2 18:07:57 2023 +\n",
      "Thu Feb  2 22:07:57 2023 -\n",
      "Thu Feb  2 23:07:57 2023 +\n",
      "Fri Feb  3 00:07:57 2023 -\n",
      "Fri Feb  3 01:07:57 2023 +\n",
      "Sun Feb  5 15:07:57 2023 -\n",
      "Sun Feb  5 16:07:57 2023 +\n",
      "Tue Feb  7 21:07:57 2023 -\n",
      "Tue Feb  7 22:07:57 2023 +\n",
      "Wed Feb  8 18:07:57 2023 -\n",
      "Wed Feb  8 19:07:57 2023 +\n",
      "Wed Feb  8 20:07:57 2023 -\n",
      "Wed Feb  8 21:07:57 2023 +\n",
      "Thu Feb  9 19:07:57 2023 -\n",
      "Thu Feb  9 20:07:57 2023 +\n",
      "Fri Feb 10 00:07:57 2023 -\n"
     ]
    },
    {
     "data": {
      "image/png": "[encoded data removed]",
      "text/plain": [
       "<Figure size 432x288 with 1 Axes>"
      ]
     },
     "metadata": {
      "needs_background": "light"
     },
     "output_type": "display_data"
    },
    {
     "name": "stdout",
     "output_type": "stream",
     "text": [
      "159.922993114191\n"
     ]
    }
   ],
   "source": [
    "\n",
    "for i in range (len(predi)-moins_heure,len(predi)):\n",
    "    compteur_heure+=1\n",
    "    tt=dollard+btc*reel[i-1]\n",
    "    logs(str(predi[i])+str(reel[i-1]),str(getcwd()) + \"prix.txt\",False)\n",
    "    if predi[i]-(real_stock_price[i-1][0]*1)>0 and dollard :\n",
    "        logs(\"+ \"+str(dollard)+\" ----> \"+str((dollard/reel[i-1])*0.999),str(getcwd()) + \"prix.txt\")\n",
    "        btc=(dollard/reel[i-1])*0.999\n",
    "        dollard=0\n",
    "        c2+=1\n",
    "        plt.scatter(i-len(predi), btc*reel[i-1], color='red', s=50, marker='+')\n",
    "        print(time.asctime(time.gmtime(int(time.time())+(i-len(predi)+2)*3600)),\"+\")\n",
    "        #print(time.time(),(moins_heure,i,len(predi)))\n",
    "    elif predi[i]-(real_stock_price[i-1][0]/1)<0 and btc:\n",
    "        logs(\"- \"+str(btc)+\" ----> \"+str((btc*reel[i-1])*0.999),str(getcwd()) + \"prix.txt\")\n",
    "        dollard+=(btc*reel[i-1])*0.999\n",
    "        btc=0\n",
    "        c2+=1\n",
    "        plt.scatter(i-len(predi), dollard, color='blue', s=50, marker='x')\n",
    "        print(time.asctime(time.gmtime(int(time.time())+(i-len(predi)+2)*3600)),\"-\")\n",
    "        #print(time.time(),(moins_heure,i,len(predi)))\n",
    "    #-------------------Enregistre les min et max------------------------------\n",
    "    if tt<min:\n",
    "        min=tt\n",
    "    if tt>max:\n",
    "        max=tt\n",
    "    #-------------------Gestion du salaire-------------------------------------\n",
    "    \"\"\"if compteur_heure==720:\n",
    "        if dollard-2000>2000:\n",
    "            dollard-=2000\n",
    "            #print(True,dollard)\n",
    "        elif (btc*reel[i-1])-2000>2000:\n",
    "            btc-=(2000/reel[i-1])\n",
    "            #print(True,btc*reel[i-1])\n",
    "        else:\n",
    "            #print(False)\n",
    "            pass\"\"\"\n",
    "    #------------------Calcule les pourcentages obtenus par mois---------------\n",
    "    if compteur_heure==720:\n",
    "        lc.append(c2)\n",
    "        compteur_heure,c2=0,0\n",
    "        if dollard:\n",
    "            pourcentage.append(dollard/ancien)\n",
    "            ancien=dollard\n",
    "        elif btc:\n",
    "            pourcentage.append(((btc*reel[i-1])/ancien))\n",
    "            ancien=btc*reel[i-1]\n",
    "    #-----------------Ajoute les données dans le graphique----------------------\n",
    "    history.append(dollard+btc*reel[i-1])\n",
    "    Time.append(i-len(predi))\n",
    "plt.title(pair+tf)\n",
    "plt.plot(Time, history)\n",
    "plt.plot(Time, historys)\n",
    "plt.xlabel('Temps')\n",
    "plt.ylabel('Wallet')\n",
    "plt.show()\n",
    "print(tt)"
   ]
  },
  {
   "cell_type": "code",
   "execution_count": 179,
   "metadata": {},
   "outputs": [
    {
     "name": "stdout",
     "output_type": "stream",
     "text": [
      "140.97735933647164\n",
      "159.76307012107682 161.9041554475253 86.03267097211815\n",
      "1.2578 0.8922\n",
      "-1440\n",
      "1.5976307012107682\n",
      "9\n",
      "71\n"
     ]
    }
   ],
   "source": [
    "print(100*reel[-1]/reel[len(predi)-moins_heure])\n",
    "print(history[-1],max,min)\n",
    "print(reel[-1],reel[-moins_heure])\n",
    "print(-moins_heure)\n",
    "del tt\n",
    "for i in pourcentage:\n",
    "    try:\n",
    "        tt*=i\n",
    "        #print(tt)\n",
    "    except NameError:\n",
    "        tt=i\n",
    "try:\n",
    "    print(tt)\n",
    "except NameError:\n",
    "    pass\n",
    "for i in lc:\n",
    "    print(i)"
   ]
  }
 ],
 "metadata": {
  "kernelspec": {
   "display_name": "Python 3",
   "language": "python",
   "name": "python3"
  },
  "language_info": {
   "codemirror_mode": {
    "name": "ipython",
    "version": 3
   },
   "file_extension": ".py",
   "mimetype": "text/x-python",
   "name": "python",
   "nbconvert_exporter": "python",
   "pygments_lexer": "ipython3",
   "version": "3.8.10"
  },
  "orig_nbformat": 4,
  "vscode": {
   "interpreter": {
    "hash": "e7370f93d1d0cde622a1f8e1c04877d8463912d04d973331ad4851f04de6915a"
   }
  }
 },
 "nbformat": 4,
 "nbformat_minor": 2
}
