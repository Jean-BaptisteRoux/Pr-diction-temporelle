{
 "cells": [
  {
   "cell_type": "code",
   "execution_count": 2,
   "metadata": {},
   "outputs": [
    {
     "name": "stderr",
     "output_type": "stream",
     "text": [
      "2023-03-09 23:36:25.477454: W tensorflow/stream_executor/platform/default/dso_loader.cc:64] Could not load dynamic library 'libcudart.so.11.0'; dlerror: libcudart.so.11.0: cannot open shared object file: No such file or directory\n",
      "2023-03-09 23:36:25.477507: I tensorflow/stream_executor/cuda/cudart_stub.cc:29] Ignore above cudart dlerror if you do not have a GPU set up on your machine.\n"
     ]
    }
   ],
   "source": [
    "import time,json,ccxt,math\n",
    "\n",
    "import pandas as pd\n",
    "import numpy as np\n",
    "from sklearn.preprocessing import MinMaxScaler\n",
    "from tensorflow.keras.models import Sequential,load_model\n",
    "from tensorflow.keras.layers import Dense, LSTM, Dropout\n",
    "from os import getcwd,system\n",
    "import matplotlib.pyplot as plt\n",
    "\n",
    "\n",
    "from get_data import get_historical_from_db"
   ]
  },
  {
   "cell_type": "code",
   "execution_count": 3,
   "metadata": {},
   "outputs": [],
   "source": [
    "def lire(chemin):\n",
    "    with open (chemin,\"r\") as fichier:\n",
    "        return json.load(fichier)\n",
    "\n",
    "def enregistrer (chemin,contenu,modeLecture=\"w\"):\n",
    "    with open(chemin,modeLecture) as fichier :\n",
    "        json.dump(contenu,fichier,indent=4, ensure_ascii=False, sort_keys=False )\n",
    "\n",
    "def logs(message,chemin=str(getcwd())+\"/logs.txt\",affi=True):\n",
    "    with open(chemin,\"a\") as l :\n",
    "        l.write(time.ctime()+\" : \"+message+\"\\n\")"
   ]
  },
  {
   "cell_type": "code",
   "execution_count": 4,
   "metadata": {},
   "outputs": [],
   "source": [
    "paramètres=lire(\"/home/Astra_world/Astra_investissement/paramètre.json\")\n",
    "tf,chemin2=\"1h\",\"\"\n",
    "chemin=getcwd()\n",
    "\n",
    "with open(paramètres[\"chemin_liste_pair\"],\"r\") as p:\n",
    "    pair=p.readlines()[0]\n",
    "\n",
    "df = get_historical_from_db(\n",
    "        ccxt.binance(), \n",
    "        pair,\n",
    "        tf,\n",
    "        path=paramètres[\"chemin_binance\"]\n",
    "    )"
   ]
  },
  {
   "cell_type": "code",
   "execution_count": 5,
   "metadata": {},
   "outputs": [
    {
     "name": "stderr",
     "output_type": "stream",
     "text": [
      "2023-03-09 23:36:45.278299: W tensorflow/stream_executor/platform/default/dso_loader.cc:64] Could not load dynamic library 'libcuda.so.1'; dlerror: libcuda.so.1: cannot open shared object file: No such file or directory\n",
      "2023-03-09 23:36:45.278384: W tensorflow/stream_executor/cuda/cuda_driver.cc:269] failed call to cuInit: UNKNOWN ERROR (303)\n",
      "2023-03-09 23:36:45.278453: I tensorflow/stream_executor/cuda/cuda_diagnostics.cc:156] kernel driver does not appear to be running on this host (je-suis-ce-que-vous-n-etes-pas): /proc/driver/nvidia/version does not exist\n",
      "2023-03-09 23:36:45.322470: I tensorflow/core/platform/cpu_feature_guard.cc:193] This TensorFlow binary is optimized with oneAPI Deep Neural Network Library (oneDNN) to use the following CPU instructions in performance-critical operations:  AVX2 FMA\n",
      "To enable them in other operations, rebuild TensorFlow with the appropriate compiler flags.\n"
     ]
    }
   ],
   "source": [
    "regressor =load_model(\"/home/Astra_world/Astra_investissement/Entrainement/I.A\")"
   ]
  },
  {
   "cell_type": "code",
   "execution_count": 6,
   "metadata": {},
   "outputs": [
    {
     "name": "stderr",
     "output_type": "stream",
     "text": [
      "/tmp/ipykernel_2660814/124486812.py:3: FutureWarning: Indexing a DataFrame with a datetimelike index using a single string to slice the rows, like `frame[string]`, is deprecated and will be removed in a future version. Use `frame.loc[string]` instead.\n",
      "  df=df[\"2022\"].copy\n"
     ]
    },
    {
     "ename": "TypeError",
     "evalue": "'method' object is not subscriptable",
     "output_type": "error",
     "traceback": [
      "\u001b[0;31m---------------------------------------------------------------------------\u001b[0m",
      "\u001b[0;31mTypeError\u001b[0m                                 Traceback (most recent call last)",
      "Cell \u001b[0;32mIn[6], line 4\u001b[0m\n\u001b[1;32m      2\u001b[0m scaled_data\u001b[39m=\u001b[39mscaler\u001b[39m.\u001b[39mfit_transform(df\u001b[39m.\u001b[39mfilter([\u001b[39m\"\u001b[39m\u001b[39mclose\u001b[39m\u001b[39m\"\u001b[39m])\u001b[39m.\u001b[39mvalues)\n\u001b[1;32m      3\u001b[0m df\u001b[39m=\u001b[39mdf[\u001b[39m\"\u001b[39m\u001b[39m2022\u001b[39m\u001b[39m\"\u001b[39m]\u001b[39m.\u001b[39mcopy\n\u001b[0;32m----> 4\u001b[0m df[\u001b[39m\"\u001b[39m\u001b[39mscaler\u001b[39m\u001b[39m\"\u001b[39m]\u001b[39m=\u001b[39mscaler\u001b[39m.\u001b[39mtransform(df[\u001b[39m\"\u001b[39;49m\u001b[39m2022\u001b[39;49m\u001b[39m\"\u001b[39;49m]\u001b[39m.\u001b[39mfilter([\u001b[39m\"\u001b[39m\u001b[39mclose\u001b[39m\u001b[39m\"\u001b[39m])\u001b[39m.\u001b[39mvalues)\n\u001b[1;32m      5\u001b[0m learn_period \u001b[39m=\u001b[39m \u001b[39m7\u001b[39m\n\u001b[1;32m      7\u001b[0m train_data\u001b[39m=\u001b[39mdf[\u001b[39m\"\u001b[39m\u001b[39mscaler\u001b[39m\u001b[39m\"\u001b[39m]\n",
      "\u001b[0;31mTypeError\u001b[0m: 'method' object is not subscriptable"
     ]
    }
   ],
   "source": [
    "scaler=MinMaxScaler(feature_range=(0,1))\n",
    "scaled_data=scaler.fit_transform(df.filter([\"close\"]).values)\n",
    "df=df[\"2022\"].copy\n",
    "df[\"scaler\"]=scaler.transform(df[\"2022\"].filter([\"close\"]).values)\n",
    "learn_period = 7\n",
    "\n",
    "train_data=df[\"scaler\"]\n",
    "x_train,y_train=[],[]\n",
    "for i in range (learn_period,len(train_data)):\n",
    "    x_train.append(train_data[i-learn_period:i,0])\n",
    "    y_train.append(train_data[i,0])\n",
    "\n",
    "x_train,y_train=np.array(x_train,dtype=object).astype(np.float32),np.array(y_train,dtype=object).astype(np.float32)\n",
    "\n",
    "\n",
    "x_train=np.reshape(x_train,(x_train.shape[0],x_train.shape[1],1))\n",
    "\n",
    "\n",
    "predictions=regressor.predict(x_train)\n",
    "predictions = np.reshape(predictions, (predictions.shape[0], predictions.shape[1]))\n",
    "predictions = scaler.inverse_transform(predictions)\n",
    "df[\"predi\"]=predictions\n",
    "\n",
    "\n",
    "\"\"\"score = regressor.evaluate(x_train, predictions, verbose=0)\n",
    "print(score)\n",
    "predi=predictions\n",
    "reel=data.values.tolist()\n",
    "\n",
    "y_pred_binary,c=0,0\n",
    "# créer une liste de prédictions binaires\n",
    "try:\n",
    "    for i in range (1,len(predictions)):\n",
    "        if predictions[i] > reel[i-1] and reel[i]>reel[i-1] or predictions[i] < reel[i-1] and reel[i]<reel[i-1]:\n",
    "            y_pred_binary+=1\n",
    "            c+=1\n",
    "        else:\n",
    "            #print(predictions[i],reel[i-1],reel[i])\n",
    "            y_pred_binary-=1\n",
    "except IndexError:\n",
    "    pass\n",
    "\n",
    "print('Accuracy:', y_pred_binary)\n",
    "from sklearn.metrics import mean_squared_error\n",
    "print(np.sqrt(mean_squared_error(reel[7:], predi)))\"\"\""
   ]
  },
  {
   "cell_type": "code",
   "execution_count": null,
   "metadata": {},
   "outputs": [],
   "source": [
    "dollard,btc=100,0\n",
    "max,min=0,100\n",
    "history,Time=[],[]\n",
    "salaire=2000        #Le salaire est retiré tout les mois si possible\n",
    "pourcentage,compteur_heure=[],0\n",
    "ancien=100\n",
    "c2=0                #Compte le nombre de mouvement\n",
    "dico={}\n",
    "lc,historys=[],[]\n",
    "del reel[0:7]\n",
    "print(reel[:5],len(predi))\n",
    "moins_heure=len(predi)-1\n",
    "if not btc:\n",
    "    btc=(dollard/reel[len(predi)-moins_heure-1][0])\n",
    "    for i in range (len(predi)-moins_heure,len(predi)):\n",
    "        historys.append(btc*reel[i-1][0])\n",
    "else:\n",
    "        historys.append(btc*reel[i-1][0])\n",
    "dollard,btc=100,0"
   ]
  },
  {
   "cell_type": "code",
   "execution_count": null,
   "metadata": {},
   "outputs": [],
   "source": [
    "\n",
    "for i in range (len(predi)-moins_heure,len(predi)):\n",
    "    compteur_heure+=1\n",
    "    tt=dollard+btc*reel[i][0]\n",
    "    logs(str(predi[i][0])+\" \"+str(reel[i][0]),str(getcwd()) + \"prix.txt\",False)\n",
    "    if predi[i]-(reel[i][0]*1)>0 and dollard :\n",
    "        logs(\"+ \"+str(dollard)+\" ----> \"+str((dollard/reel[i][0])*0.999),str(getcwd()) + \"prix.txt\",False)\n",
    "        btc=(dollard/reel[i][0])\n",
    "        dollard=0\n",
    "        c2+=1\n",
    "        plt.scatter(i-len(predi), btc*reel[i][0], color='red', s=50, marker='+')\n",
    "        print(time.asctime(time.gmtime(int(time.time())-(moins_heure-(i-len(predi)))*3600)),\"+\")\n",
    "        #print(time.time(),(moins_heure,i,len(predi)))\n",
    "    elif predi[i]-(reel[i][0]/1)<0 and btc:\n",
    "        logs(\"- \"+str(btc)+\" ----> \"+str((btc*reel[i][0])*0.999),str(getcwd()) + \"prix.txt\",False)\n",
    "        dollard+=(btc*reel[i][0])\n",
    "        btc=0\n",
    "        c2+=1\n",
    "        plt.scatter(i-len(predi), dollard, color='blue', s=50, marker='x')\n",
    "        print(time.asctime(time.gmtime(int(time.time())-(moins_heure-(i-len(predi)))*3600)),\"-\")\n",
    "        #print(time.time(),(moins_heure,i,len(predi)))\n",
    "    #-------------------Enregistre les min et max------------------------------\n",
    "    if tt<min:\n",
    "        min=tt\n",
    "    if tt>max:\n",
    "        max=tt\n",
    "    \"\"\"#-------------------Gestion du salaire-------------------------------------\n",
    "    if compteur_heure==720:\n",
    "        if dollard-2000>2000:\n",
    "            dollard-=2000\n",
    "            #print(True,dollard)\n",
    "        elif (btc*reel[i][0])-2000>2000:\n",
    "            btc-=(2000/reel[i][0])\n",
    "            #print(True,btc*reel[i][0])\n",
    "        else:\n",
    "            #print(False)\n",
    "            pass\n",
    "    #------------------Calcule les pourcentages obtenus par mois---------------\n",
    "    if compteur_heure==720:\n",
    "        lc.append(c2)\n",
    "        compteur_heure,c2=0,0\n",
    "        if dollard:\n",
    "            pourcentage.append(dollard/ancien)\n",
    "            ancien=dollard\n",
    "        elif btc:\n",
    "            pourcentage.append(((btc*reel[i][0])/ancien))\n",
    "            ancien=btc*reel[i][0]\"\"\"\n",
    "    #-----------------Ajoute les données dans le graphique----------------------\n",
    "    history.append(dollard+btc*reel[i][0])\n",
    "    Time.append(i-len(predi))\n",
    "plt.title(pair+tf)\n",
    "plt.plot(Time, history)\n",
    "plt.plot(Time, historys)\n",
    "plt.xlabel('Temps')\n",
    "plt.ylabel('Wallet')\n",
    "plt.show()\n",
    "print(c2)"
   ]
  },
  {
   "cell_type": "code",
   "execution_count": null,
   "metadata": {},
   "outputs": [],
   "source": [
    "print(100*reel[-1][0]/reel[len(predi)-moins_heure][0])\n",
    "print(history[-1],max,min)\n",
    "del tt\n",
    "for i in pourcentage:\n",
    "    try:\n",
    "        tt*=i\n",
    "        #print(tt)\n",
    "    except NameError:\n",
    "        tt=i\n",
    "try:\n",
    "    print(tt)\n",
    "except NameError:\n",
    "    pass\n",
    "for i in lc:\n",
    "    print(i)"
   ]
  }
 ],
 "metadata": {
  "kernelspec": {
   "display_name": "Astra_investissement",
   "language": "python",
   "name": "python3"
  },
  "language_info": {
   "codemirror_mode": {
    "name": "ipython",
    "version": 3
   },
   "file_extension": ".py",
   "mimetype": "text/x-python",
   "name": "python",
   "nbconvert_exporter": "python",
   "pygments_lexer": "ipython3",
   "version": "3.8.10"
  },
  "orig_nbformat": 4,
  "vscode": {
   "interpreter": {
    "hash": "0868d1f0349ee8971cba977c46b357907cd0995cd0c72ccda4f338e4b6d252bb"
   }
  }
 },
 "nbformat": 4,
 "nbformat_minor": 2
}
